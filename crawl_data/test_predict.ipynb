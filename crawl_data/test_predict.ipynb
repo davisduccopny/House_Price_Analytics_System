{
 "cells": [
  {
   "cell_type": "code",
   "execution_count": 1,
   "metadata": {},
   "outputs": [],
   "source": [
    "import pandas as pd\n",
    "import numpy as np\n",
    "import matplotlib.pyplot as plt\n",
    "import seaborn as sns\n",
    "from sklearn.model_selection import train_test_split\n",
    "from sklearn.linear_model import LinearRegression\n",
    "from sklearn.metrics import mean_squared_error, r2_score"
   ]
  },
  {
   "cell_type": "code",
   "execution_count": 2,
   "metadata": {},
   "outputs": [],
   "source": [
    "df = pd.read_csv('./vietnam_housing_dataset.csv')\n",
    "\n",
    "def split_address(address):\n",
    "    parts = address.split(\",\")\n",
    "    if len(parts) >= 3:\n",
    "        ward_commune = parts[-3].strip()  \n",
    "        district = parts[-2].strip()      \n",
    "        province = parts[-1].strip()     \n",
    "        return ward_commune, district, province\n",
    "    return None, None, None\n",
    "\n",
    "df[[\"Ward/Commune\", \"District\", \"Province\"]] = df[\"Address\"].apply(split_address).apply(pd.Series)"
   ]
  },
  {
   "cell_type": "code",
   "execution_count": 3,
   "metadata": {},
   "outputs": [],
   "source": [
    "df = df.dropna(subset=[\"Ward/Commune\", \"District\", \"Province\"])"
   ]
  },
  {
   "cell_type": "code",
   "execution_count": 4,
   "metadata": {},
   "outputs": [],
   "source": [
    "def contains_prefix(text):\n",
    "    \"\"\"Checks if a string contains 'Xã', 'Phường', or 'Thị trấn'.\"\"\"\n",
    "    prefixes = [\"Xã \", \"Phường \", \"Thị trấn \"]\n",
    "    for prefix in prefixes:\n",
    "        if prefix in text:\n",
    "            return True\n",
    "    return False\n",
    "\n",
    "df= df[df['Ward/Commune'].apply(contains_prefix)]"
   ]
  },
  {
   "cell_type": "code",
   "execution_count": 5,
   "metadata": {},
   "outputs": [],
   "source": [
    "df['Ward/Commune'] = df['Ward/Commune'].str.replace(r\"^(Xã |Phường |Thị trấn )\", \"\", regex=True)"
   ]
  },
  {
   "cell_type": "code",
   "execution_count": 6,
   "metadata": {},
   "outputs": [],
   "source": [
    "columns_to_drop = ['Address', 'House direction', 'Balcony direction','Furniture state','Legal status']\n",
    "\n",
    "df = df.drop(columns_to_drop, axis=1)"
   ]
  },
  {
   "cell_type": "code",
   "execution_count": 7,
   "metadata": {},
   "outputs": [
    {
     "name": "stdout",
     "output_type": "stream",
     "text": [
      "Số dòng của DataFrame: 30019\n"
     ]
    }
   ],
   "source": [
    "num_rows = df.shape[0]  \n",
    "print(f\"Số dòng của DataFrame: {num_rows}\")"
   ]
  },
  {
   "cell_type": "code",
   "execution_count": 60,
   "metadata": {},
   "outputs": [],
   "source": [
    "file_name = \"vietnam_housing_dataset2.csv\"\n",
    "df.to_csv(file_name, index=False, encoding='utf-8-sig')"
   ]
  },
  {
   "cell_type": "code",
   "execution_count": 8,
   "metadata": {},
   "outputs": [
    {
     "data": {
      "text/plain": [
       "Area                0\n",
       "Frontage        11479\n",
       "Access Road     13194\n",
       "Floors           3556\n",
       "Bedrooms         5095\n",
       "Bathrooms        7002\n",
       "Price               0\n",
       "Ward/Commune        0\n",
       "District            0\n",
       "Province            0\n",
       "dtype: int64"
      ]
     },
     "execution_count": 8,
     "metadata": {},
     "output_type": "execute_result"
    }
   ],
   "source": [
    "df.isnull().sum()"
   ]
  }
 ],
 "metadata": {
  "kernelspec": {
   "display_name": "Python 3",
   "language": "python",
   "name": "python3"
  },
  "language_info": {
   "codemirror_mode": {
    "name": "ipython",
    "version": 3
   },
   "file_extension": ".py",
   "mimetype": "text/x-python",
   "name": "python",
   "nbconvert_exporter": "python",
   "pygments_lexer": "ipython3",
   "version": "3.11.5"
  }
 },
 "nbformat": 4,
 "nbformat_minor": 2
}
