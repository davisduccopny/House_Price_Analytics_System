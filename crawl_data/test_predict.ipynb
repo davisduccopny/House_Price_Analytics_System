{
 "cells": [
  {
   "cell_type": "code",
   "execution_count": 46,
   "metadata": {},
   "outputs": [],
   "source": [
    "import pandas as pd\n",
    "import numpy as np\n",
    "import matplotlib.pyplot as plt\n",
    "import seaborn as sns\n",
    "from sklearn.model_selection import train_test_split\n",
    "from sklearn.linear_model import LinearRegression\n",
    "from sklearn.metrics import mean_squared_error, r2_score"
   ]
  },
  {
   "cell_type": "code",
   "execution_count": 47,
   "metadata": {},
   "outputs": [
    {
     "data": {
      "text/html": [
       "<div>\n",
       "<style scoped>\n",
       "    .dataframe tbody tr th:only-of-type {\n",
       "        vertical-align: middle;\n",
       "    }\n",
       "\n",
       "    .dataframe tbody tr th {\n",
       "        vertical-align: top;\n",
       "    }\n",
       "\n",
       "    .dataframe thead th {\n",
       "        text-align: right;\n",
       "    }\n",
       "</style>\n",
       "<table border=\"1\" class=\"dataframe\">\n",
       "  <thead>\n",
       "    <tr style=\"text-align: right;\">\n",
       "      <th></th>\n",
       "      <th>Address</th>\n",
       "      <th>Area</th>\n",
       "      <th>Frontage</th>\n",
       "      <th>Access Road</th>\n",
       "      <th>House direction</th>\n",
       "      <th>Balcony direction</th>\n",
       "      <th>Floors</th>\n",
       "      <th>Bedrooms</th>\n",
       "      <th>Bathrooms</th>\n",
       "      <th>Legal status</th>\n",
       "      <th>Furniture state</th>\n",
       "      <th>Price</th>\n",
       "    </tr>\n",
       "  </thead>\n",
       "  <tbody>\n",
       "    <tr>\n",
       "      <th>0</th>\n",
       "      <td>Dự án The Empire - Vinhomes Ocean Park 2, Xã L...</td>\n",
       "      <td>84.0</td>\n",
       "      <td>NaN</td>\n",
       "      <td>NaN</td>\n",
       "      <td>NaN</td>\n",
       "      <td>NaN</td>\n",
       "      <td>4.0</td>\n",
       "      <td>NaN</td>\n",
       "      <td>NaN</td>\n",
       "      <td>Have certificate</td>\n",
       "      <td>NaN</td>\n",
       "      <td>8.60</td>\n",
       "    </tr>\n",
       "    <tr>\n",
       "      <th>1</th>\n",
       "      <td>Dự án The Crown - Vinhomes Ocean Park 3, Xã Ng...</td>\n",
       "      <td>60.0</td>\n",
       "      <td>NaN</td>\n",
       "      <td>NaN</td>\n",
       "      <td>NaN</td>\n",
       "      <td>NaN</td>\n",
       "      <td>5.0</td>\n",
       "      <td>NaN</td>\n",
       "      <td>NaN</td>\n",
       "      <td>NaN</td>\n",
       "      <td>NaN</td>\n",
       "      <td>7.50</td>\n",
       "    </tr>\n",
       "    <tr>\n",
       "      <th>2</th>\n",
       "      <td>Dự án The Crown - Vinhomes Ocean Park 3, Xã Ng...</td>\n",
       "      <td>90.0</td>\n",
       "      <td>6.0</td>\n",
       "      <td>13.0</td>\n",
       "      <td>Đông - Bắc</td>\n",
       "      <td>Đông - Bắc</td>\n",
       "      <td>5.0</td>\n",
       "      <td>NaN</td>\n",
       "      <td>NaN</td>\n",
       "      <td>Sale contract</td>\n",
       "      <td>NaN</td>\n",
       "      <td>8.90</td>\n",
       "    </tr>\n",
       "    <tr>\n",
       "      <th>3</th>\n",
       "      <td>Đường Nguyễn Văn Khối, Phường 11, Gò Vấp, Hồ C...</td>\n",
       "      <td>54.0</td>\n",
       "      <td>NaN</td>\n",
       "      <td>3.5</td>\n",
       "      <td>Tây - Nam</td>\n",
       "      <td>Tây - Nam</td>\n",
       "      <td>2.0</td>\n",
       "      <td>2.0</td>\n",
       "      <td>3.0</td>\n",
       "      <td>Have certificate</td>\n",
       "      <td>Full</td>\n",
       "      <td>5.35</td>\n",
       "    </tr>\n",
       "    <tr>\n",
       "      <th>4</th>\n",
       "      <td>Đường Quang Trung, Phường 8, Gò Vấp, Hồ Chí Minh</td>\n",
       "      <td>92.0</td>\n",
       "      <td>NaN</td>\n",
       "      <td>NaN</td>\n",
       "      <td>Đông - Nam</td>\n",
       "      <td>Đông - Nam</td>\n",
       "      <td>2.0</td>\n",
       "      <td>4.0</td>\n",
       "      <td>4.0</td>\n",
       "      <td>Have certificate</td>\n",
       "      <td>Full</td>\n",
       "      <td>6.90</td>\n",
       "    </tr>\n",
       "  </tbody>\n",
       "</table>\n",
       "</div>"
      ],
      "text/plain": [
       "                                             Address  Area  Frontage  \\\n",
       "0  Dự án The Empire - Vinhomes Ocean Park 2, Xã L...  84.0       NaN   \n",
       "1  Dự án The Crown - Vinhomes Ocean Park 3, Xã Ng...  60.0       NaN   \n",
       "2  Dự án The Crown - Vinhomes Ocean Park 3, Xã Ng...  90.0       6.0   \n",
       "3  Đường Nguyễn Văn Khối, Phường 11, Gò Vấp, Hồ C...  54.0       NaN   \n",
       "4   Đường Quang Trung, Phường 8, Gò Vấp, Hồ Chí Minh  92.0       NaN   \n",
       "\n",
       "   Access Road House direction Balcony direction  Floors  Bedrooms  Bathrooms  \\\n",
       "0          NaN             NaN               NaN     4.0       NaN        NaN   \n",
       "1          NaN             NaN               NaN     5.0       NaN        NaN   \n",
       "2         13.0      Đông - Bắc        Đông - Bắc     5.0       NaN        NaN   \n",
       "3          3.5       Tây - Nam         Tây - Nam     2.0       2.0        3.0   \n",
       "4          NaN      Đông - Nam        Đông - Nam     2.0       4.0        4.0   \n",
       "\n",
       "       Legal status Furniture state  Price  \n",
       "0  Have certificate             NaN   8.60  \n",
       "1               NaN             NaN   7.50  \n",
       "2     Sale contract             NaN   8.90  \n",
       "3  Have certificate            Full   5.35  \n",
       "4  Have certificate            Full   6.90  "
      ]
     },
     "execution_count": 47,
     "metadata": {},
     "output_type": "execute_result"
    }
   ],
   "source": [
    "df = pd.read_csv('./vietnam_housing_dataset.csv')\n",
    "df.head(5)"
   ]
  },
  {
   "cell_type": "code",
   "execution_count": 48,
   "metadata": {},
   "outputs": [],
   "source": [
    "def split_address(address):\n",
    "    parts = address.split(\",\")\n",
    "    if len(parts) >= 3:\n",
    "        ward_commune = parts[-3].strip()  \n",
    "        district = parts[-2].strip()      \n",
    "        province = parts[-1].strip()     \n",
    "        return ward_commune, district, province\n",
    "    return None, None, None\n",
    "\n",
    "df[[\"Ward/Commune\", \"District\", \"Province\"]] = df[\"Address\"].apply(split_address).apply(pd.Series)\n"
   ]
  },
  {
   "cell_type": "code",
   "execution_count": 13,
   "metadata": {},
   "outputs": [
    {
     "data": {
      "text/html": [
       "<div>\n",
       "<style scoped>\n",
       "    .dataframe tbody tr th:only-of-type {\n",
       "        vertical-align: middle;\n",
       "    }\n",
       "\n",
       "    .dataframe tbody tr th {\n",
       "        vertical-align: top;\n",
       "    }\n",
       "\n",
       "    .dataframe thead th {\n",
       "        text-align: right;\n",
       "    }\n",
       "</style>\n",
       "<table border=\"1\" class=\"dataframe\">\n",
       "  <thead>\n",
       "    <tr style=\"text-align: right;\">\n",
       "      <th></th>\n",
       "      <th>Address</th>\n",
       "      <th>Area</th>\n",
       "      <th>Frontage</th>\n",
       "      <th>Access Road</th>\n",
       "      <th>House direction</th>\n",
       "      <th>Balcony direction</th>\n",
       "      <th>Floors</th>\n",
       "      <th>Bedrooms</th>\n",
       "      <th>Bathrooms</th>\n",
       "      <th>Legal status</th>\n",
       "      <th>Furniture state</th>\n",
       "      <th>Price</th>\n",
       "      <th>Ward/Commune</th>\n",
       "      <th>District</th>\n",
       "      <th>Province</th>\n",
       "    </tr>\n",
       "  </thead>\n",
       "  <tbody>\n",
       "    <tr>\n",
       "      <th>0</th>\n",
       "      <td>Dự án The Empire - Vinhomes Ocean Park 2, Xã L...</td>\n",
       "      <td>84.0</td>\n",
       "      <td>NaN</td>\n",
       "      <td>NaN</td>\n",
       "      <td>NaN</td>\n",
       "      <td>NaN</td>\n",
       "      <td>4.0</td>\n",
       "      <td>NaN</td>\n",
       "      <td>NaN</td>\n",
       "      <td>Have certificate</td>\n",
       "      <td>NaN</td>\n",
       "      <td>8.6</td>\n",
       "      <td>Xã Long Hưng</td>\n",
       "      <td>Văn Giang</td>\n",
       "      <td>Hưng Yên</td>\n",
       "    </tr>\n",
       "    <tr>\n",
       "      <th>1</th>\n",
       "      <td>Dự án The Crown - Vinhomes Ocean Park 3, Xã Ng...</td>\n",
       "      <td>60.0</td>\n",
       "      <td>NaN</td>\n",
       "      <td>NaN</td>\n",
       "      <td>NaN</td>\n",
       "      <td>NaN</td>\n",
       "      <td>5.0</td>\n",
       "      <td>NaN</td>\n",
       "      <td>NaN</td>\n",
       "      <td>NaN</td>\n",
       "      <td>NaN</td>\n",
       "      <td>7.5</td>\n",
       "      <td>Xã Nghĩa Trụ</td>\n",
       "      <td>Văn Giang</td>\n",
       "      <td>Hưng Yên</td>\n",
       "    </tr>\n",
       "    <tr>\n",
       "      <th>2</th>\n",
       "      <td>Dự án The Crown - Vinhomes Ocean Park 3, Xã Ng...</td>\n",
       "      <td>90.0</td>\n",
       "      <td>6.0</td>\n",
       "      <td>13.0</td>\n",
       "      <td>Đông - Bắc</td>\n",
       "      <td>Đông - Bắc</td>\n",
       "      <td>5.0</td>\n",
       "      <td>NaN</td>\n",
       "      <td>NaN</td>\n",
       "      <td>Sale contract</td>\n",
       "      <td>NaN</td>\n",
       "      <td>8.9</td>\n",
       "      <td>Xã Nghĩa Trụ</td>\n",
       "      <td>Văn Giang</td>\n",
       "      <td>Hưng Yên</td>\n",
       "    </tr>\n",
       "  </tbody>\n",
       "</table>\n",
       "</div>"
      ],
      "text/plain": [
       "                                             Address  Area  Frontage  \\\n",
       "0  Dự án The Empire - Vinhomes Ocean Park 2, Xã L...  84.0       NaN   \n",
       "1  Dự án The Crown - Vinhomes Ocean Park 3, Xã Ng...  60.0       NaN   \n",
       "2  Dự án The Crown - Vinhomes Ocean Park 3, Xã Ng...  90.0       6.0   \n",
       "\n",
       "   Access Road House direction Balcony direction  Floors  Bedrooms  Bathrooms  \\\n",
       "0          NaN             NaN               NaN     4.0       NaN        NaN   \n",
       "1          NaN             NaN               NaN     5.0       NaN        NaN   \n",
       "2         13.0      Đông - Bắc        Đông - Bắc     5.0       NaN        NaN   \n",
       "\n",
       "       Legal status Furniture state  Price  Ward/Commune   District  Province  \n",
       "0  Have certificate             NaN    8.6  Xã Long Hưng  Văn Giang  Hưng Yên  \n",
       "1               NaN             NaN    7.5  Xã Nghĩa Trụ  Văn Giang  Hưng Yên  \n",
       "2     Sale contract             NaN    8.9  Xã Nghĩa Trụ  Văn Giang  Hưng Yên  "
      ]
     },
     "execution_count": 13,
     "metadata": {},
     "output_type": "execute_result"
    }
   ],
   "source": [
    "df.head(3)"
   ]
  },
  {
   "cell_type": "code",
   "execution_count": 49,
   "metadata": {},
   "outputs": [
    {
     "data": {
      "text/plain": [
       "Address                  0\n",
       "Area                     0\n",
       "Frontage             11564\n",
       "Access Road          13297\n",
       "House direction      21239\n",
       "Balcony direction    24983\n",
       "Floors                3603\n",
       "Bedrooms              5162\n",
       "Bathrooms             7074\n",
       "Legal status          4506\n",
       "Furniture state      14119\n",
       "Price                    0\n",
       "Ward/Commune             5\n",
       "District                 5\n",
       "Province                 5\n",
       "dtype: int64"
      ]
     },
     "execution_count": 49,
     "metadata": {},
     "output_type": "execute_result"
    }
   ],
   "source": [
    "df.isnull().sum()"
   ]
  },
  {
   "cell_type": "code",
   "execution_count": 50,
   "metadata": {},
   "outputs": [
    {
     "name": "stdout",
     "output_type": "stream",
     "text": [
      "Số dòng của DataFrame: 30229\n"
     ]
    }
   ],
   "source": [
    "num_rows = df.shape[0]  \n",
    "print(f\"Số dòng của DataFrame: {num_rows}\")"
   ]
  },
  {
   "cell_type": "code",
   "execution_count": 51,
   "metadata": {},
   "outputs": [],
   "source": [
    "df = df.dropna(subset=[\"Ward/Commune\", \"District\", \"Province\"])"
   ]
  },
  {
   "cell_type": "code",
   "execution_count": 52,
   "metadata": {},
   "outputs": [
    {
     "name": "stdout",
     "output_type": "stream",
     "text": [
      "Số dòng của DataFrame: 30224\n"
     ]
    }
   ],
   "source": [
    "num_rows = df.shape[0]  \n",
    "print(f\"Số dòng của DataFrame: {num_rows}\")"
   ]
  },
  {
   "cell_type": "code",
   "execution_count": 53,
   "metadata": {},
   "outputs": [],
   "source": [
    "def contains_prefix(text):\n",
    "    \"\"\"Checks if a string contains 'Xã', 'Phường', or 'Thị trấn'.\"\"\"\n",
    "    prefixes = [\"Xã \", \"Phường \", \"Thị trấn \"]\n",
    "    for prefix in prefixes:\n",
    "        if prefix in text:\n",
    "            return True\n",
    "    return False\n",
    "\n",
    "df= df[df['Ward/Commune'].apply(contains_prefix)]"
   ]
  },
  {
   "cell_type": "code",
   "execution_count": 54,
   "metadata": {},
   "outputs": [],
   "source": [
    "df['Ward/Commune'] = df['Ward/Commune'].str.replace(r\"^(Xã |Phường |Thị trấn )\", \"\", regex=True)"
   ]
  },
  {
   "cell_type": "code",
   "execution_count": 55,
   "metadata": {},
   "outputs": [
    {
     "name": "stdout",
     "output_type": "stream",
     "text": [
      "Số dòng của DataFrame: 30019\n"
     ]
    }
   ],
   "source": [
    "num_rows = df.shape[0] \n",
    "print(f\"Số dòng của DataFrame: {num_rows}\")"
   ]
  },
  {
   "cell_type": "code",
   "execution_count": 59,
   "metadata": {},
   "outputs": [],
   "source": [
    "file_name = \"vietnam_housing_dataset2.csv\"\n",
    "df.to_csv(file_name, index=False, encoding='utf-8-sig')"
   ]
  },
  {
   "cell_type": "code",
   "execution_count": 40,
   "metadata": {},
   "outputs": [
    {
     "name": "stdout",
     "output_type": "stream",
     "text": [
      "Số dòng của DataFrame: 30019\n"
     ]
    }
   ],
   "source": [
    "num_rows = df.shape[0]  # Số dòng của DataFrame\n",
    "print(f\"Số dòng của DataFrame: {num_rows}\")"
   ]
  },
  {
   "cell_type": "code",
   "execution_count": 41,
   "metadata": {},
   "outputs": [
    {
     "data": {
      "text/plain": [
       "Address                  0\n",
       "Area                     0\n",
       "Frontage             11479\n",
       "Access Road          13194\n",
       "House direction      21114\n",
       "Balcony direction    24833\n",
       "Floors                3556\n",
       "Bedrooms              5095\n",
       "Bathrooms             7002\n",
       "Legal status          4480\n",
       "Furniture state      13988\n",
       "Price                    0\n",
       "Ward/Commune             0\n",
       "District                 0\n",
       "Province                 0\n",
       "dtype: int64"
      ]
     },
     "execution_count": 41,
     "metadata": {},
     "output_type": "execute_result"
    }
   ],
   "source": [
    "df.isnull().sum()"
   ]
  },
  {
   "cell_type": "code",
   "execution_count": 56,
   "metadata": {},
   "outputs": [],
   "source": [
    "columns_to_drop = ['Address', 'House direction', 'Balcony direction','Furniture state','Legal status']\n",
    "\n",
    "df = df.drop(columns_to_drop, axis=1)"
   ]
  },
  {
   "cell_type": "code",
   "execution_count": 43,
   "metadata": {},
   "outputs": [],
   "source": [
    "df = df.dropna()"
   ]
  },
  {
   "cell_type": "code",
   "execution_count": 57,
   "metadata": {},
   "outputs": [
    {
     "name": "stdout",
     "output_type": "stream",
     "text": [
      "Số dòng của DataFrame: 30019\n"
     ]
    }
   ],
   "source": [
    "num_rows = df.shape[0]  \n",
    "print(f\"Số dòng của DataFrame: {num_rows}\")"
   ]
  },
  {
   "cell_type": "code",
   "execution_count": 53,
   "metadata": {},
   "outputs": [
    {
     "name": "stderr",
     "output_type": "stream",
     "text": [
      "C:\\Users\\trung\\AppData\\Local\\Temp\\ipykernel_2052\\476495888.py:4: FutureWarning: A value is trying to be set on a copy of a DataFrame or Series through chained assignment using an inplace method.\n",
      "The behavior will change in pandas 3.0. This inplace method will never work because the intermediate object on which we are setting values always behaves as a copy.\n",
      "\n",
      "For example, when doing 'df[col].method(value, inplace=True)', try using 'df.method({col: value}, inplace=True)' or df[col] = df[col].method(value) instead, to perform the operation inplace on the original object.\n",
      "\n",
      "\n",
      "  df[col].fillna(df[col].median(), inplace=True)\n",
      "C:\\Users\\trung\\AppData\\Local\\Temp\\ipykernel_2052\\476495888.py:4: FutureWarning: A value is trying to be set on a copy of a DataFrame or Series through chained assignment using an inplace method.\n",
      "The behavior will change in pandas 3.0. This inplace method will never work because the intermediate object on which we are setting values always behaves as a copy.\n",
      "\n",
      "For example, when doing 'df[col].method(value, inplace=True)', try using 'df.method({col: value}, inplace=True)' or df[col] = df[col].method(value) instead, to perform the operation inplace on the original object.\n",
      "\n",
      "\n",
      "  df[col].fillna(df[col].median(), inplace=True)\n",
      "C:\\Users\\trung\\AppData\\Local\\Temp\\ipykernel_2052\\476495888.py:4: FutureWarning: A value is trying to be set on a copy of a DataFrame or Series through chained assignment using an inplace method.\n",
      "The behavior will change in pandas 3.0. This inplace method will never work because the intermediate object on which we are setting values always behaves as a copy.\n",
      "\n",
      "For example, when doing 'df[col].method(value, inplace=True)', try using 'df.method({col: value}, inplace=True)' or df[col] = df[col].method(value) instead, to perform the operation inplace on the original object.\n",
      "\n",
      "\n",
      "  df[col].fillna(df[col].median(), inplace=True)\n",
      "C:\\Users\\trung\\AppData\\Local\\Temp\\ipykernel_2052\\476495888.py:4: FutureWarning: A value is trying to be set on a copy of a DataFrame or Series through chained assignment using an inplace method.\n",
      "The behavior will change in pandas 3.0. This inplace method will never work because the intermediate object on which we are setting values always behaves as a copy.\n",
      "\n",
      "For example, when doing 'df[col].method(value, inplace=True)', try using 'df.method({col: value}, inplace=True)' or df[col] = df[col].method(value) instead, to perform the operation inplace on the original object.\n",
      "\n",
      "\n",
      "  df[col].fillna(df[col].median(), inplace=True)\n",
      "C:\\Users\\trung\\AppData\\Local\\Temp\\ipykernel_2052\\476495888.py:4: FutureWarning: A value is trying to be set on a copy of a DataFrame or Series through chained assignment using an inplace method.\n",
      "The behavior will change in pandas 3.0. This inplace method will never work because the intermediate object on which we are setting values always behaves as a copy.\n",
      "\n",
      "For example, when doing 'df[col].method(value, inplace=True)', try using 'df.method({col: value}, inplace=True)' or df[col] = df[col].method(value) instead, to perform the operation inplace on the original object.\n",
      "\n",
      "\n",
      "  df[col].fillna(df[col].median(), inplace=True)\n",
      "C:\\Users\\trung\\AppData\\Local\\Temp\\ipykernel_2052\\476495888.py:4: FutureWarning: A value is trying to be set on a copy of a DataFrame or Series through chained assignment using an inplace method.\n",
      "The behavior will change in pandas 3.0. This inplace method will never work because the intermediate object on which we are setting values always behaves as a copy.\n",
      "\n",
      "For example, when doing 'df[col].method(value, inplace=True)', try using 'df.method({col: value}, inplace=True)' or df[col] = df[col].method(value) instead, to perform the operation inplace on the original object.\n",
      "\n",
      "\n",
      "  df[col].fillna(df[col].median(), inplace=True)\n",
      "C:\\Users\\trung\\AppData\\Local\\Temp\\ipykernel_2052\\476495888.py:4: FutureWarning: A value is trying to be set on a copy of a DataFrame or Series through chained assignment using an inplace method.\n",
      "The behavior will change in pandas 3.0. This inplace method will never work because the intermediate object on which we are setting values always behaves as a copy.\n",
      "\n",
      "For example, when doing 'df[col].method(value, inplace=True)', try using 'df.method({col: value}, inplace=True)' or df[col] = df[col].method(value) instead, to perform the operation inplace on the original object.\n",
      "\n",
      "\n",
      "  df[col].fillna(df[col].median(), inplace=True)\n"
     ]
    }
   ],
   "source": [
    "numeric_columns = df.select_dtypes(include=[np.number]).columns\n",
    "for col in numeric_columns:\n",
    "    df[col].fillna(df[col].median(), inplace=True)"
   ]
  },
  {
   "cell_type": "code",
   "execution_count": 54,
   "metadata": {},
   "outputs": [
    {
     "name": "stderr",
     "output_type": "stream",
     "text": [
      "C:\\Users\\trung\\AppData\\Local\\Temp\\ipykernel_2052\\1124350905.py:4: FutureWarning: A value is trying to be set on a copy of a DataFrame or Series through chained assignment using an inplace method.\n",
      "The behavior will change in pandas 3.0. This inplace method will never work because the intermediate object on which we are setting values always behaves as a copy.\n",
      "\n",
      "For example, when doing 'df[col].method(value, inplace=True)', try using 'df.method({col: value}, inplace=True)' or df[col] = df[col].method(value) instead, to perform the operation inplace on the original object.\n",
      "\n",
      "\n",
      "  df[col].fillna(df[col].mode()[0], inplace=True)\n"
     ]
    }
   ],
   "source": [
    "categorical_columns = df.select_dtypes(include=[object]).columns\n",
    "for col in categorical_columns:\n",
    "    df[col].fillna(df[col].mode()[0], inplace=True)"
   ]
  },
  {
   "cell_type": "code",
   "execution_count": 58,
   "metadata": {},
   "outputs": [
    {
     "data": {
      "text/html": [
       "<div>\n",
       "<style scoped>\n",
       "    .dataframe tbody tr th:only-of-type {\n",
       "        vertical-align: middle;\n",
       "    }\n",
       "\n",
       "    .dataframe tbody tr th {\n",
       "        vertical-align: top;\n",
       "    }\n",
       "\n",
       "    .dataframe thead th {\n",
       "        text-align: right;\n",
       "    }\n",
       "</style>\n",
       "<table border=\"1\" class=\"dataframe\">\n",
       "  <thead>\n",
       "    <tr style=\"text-align: right;\">\n",
       "      <th></th>\n",
       "      <th>Area</th>\n",
       "      <th>Frontage</th>\n",
       "      <th>Access Road</th>\n",
       "      <th>Floors</th>\n",
       "      <th>Bedrooms</th>\n",
       "      <th>Bathrooms</th>\n",
       "      <th>Price</th>\n",
       "      <th>Ward/Commune</th>\n",
       "      <th>District</th>\n",
       "      <th>Province</th>\n",
       "    </tr>\n",
       "  </thead>\n",
       "  <tbody>\n",
       "    <tr>\n",
       "      <th>0</th>\n",
       "      <td>84.0</td>\n",
       "      <td>NaN</td>\n",
       "      <td>NaN</td>\n",
       "      <td>4.0</td>\n",
       "      <td>NaN</td>\n",
       "      <td>NaN</td>\n",
       "      <td>8.60</td>\n",
       "      <td>Long Hưng</td>\n",
       "      <td>Văn Giang</td>\n",
       "      <td>Hưng Yên</td>\n",
       "    </tr>\n",
       "    <tr>\n",
       "      <th>1</th>\n",
       "      <td>60.0</td>\n",
       "      <td>NaN</td>\n",
       "      <td>NaN</td>\n",
       "      <td>5.0</td>\n",
       "      <td>NaN</td>\n",
       "      <td>NaN</td>\n",
       "      <td>7.50</td>\n",
       "      <td>Nghĩa Trụ</td>\n",
       "      <td>Văn Giang</td>\n",
       "      <td>Hưng Yên</td>\n",
       "    </tr>\n",
       "    <tr>\n",
       "      <th>2</th>\n",
       "      <td>90.0</td>\n",
       "      <td>6.0</td>\n",
       "      <td>13.0</td>\n",
       "      <td>5.0</td>\n",
       "      <td>NaN</td>\n",
       "      <td>NaN</td>\n",
       "      <td>8.90</td>\n",
       "      <td>Nghĩa Trụ</td>\n",
       "      <td>Văn Giang</td>\n",
       "      <td>Hưng Yên</td>\n",
       "    </tr>\n",
       "    <tr>\n",
       "      <th>3</th>\n",
       "      <td>54.0</td>\n",
       "      <td>NaN</td>\n",
       "      <td>3.5</td>\n",
       "      <td>2.0</td>\n",
       "      <td>2.0</td>\n",
       "      <td>3.0</td>\n",
       "      <td>5.35</td>\n",
       "      <td>11</td>\n",
       "      <td>Gò Vấp</td>\n",
       "      <td>Hồ Chí Minh</td>\n",
       "    </tr>\n",
       "    <tr>\n",
       "      <th>4</th>\n",
       "      <td>92.0</td>\n",
       "      <td>NaN</td>\n",
       "      <td>NaN</td>\n",
       "      <td>2.0</td>\n",
       "      <td>4.0</td>\n",
       "      <td>4.0</td>\n",
       "      <td>6.90</td>\n",
       "      <td>8</td>\n",
       "      <td>Gò Vấp</td>\n",
       "      <td>Hồ Chí Minh</td>\n",
       "    </tr>\n",
       "  </tbody>\n",
       "</table>\n",
       "</div>"
      ],
      "text/plain": [
       "   Area  Frontage  Access Road  Floors  Bedrooms  Bathrooms  Price  \\\n",
       "0  84.0       NaN          NaN     4.0       NaN        NaN   8.60   \n",
       "1  60.0       NaN          NaN     5.0       NaN        NaN   7.50   \n",
       "2  90.0       6.0         13.0     5.0       NaN        NaN   8.90   \n",
       "3  54.0       NaN          3.5     2.0       2.0        3.0   5.35   \n",
       "4  92.0       NaN          NaN     2.0       4.0        4.0   6.90   \n",
       "\n",
       "  Ward/Commune   District     Province  \n",
       "0    Long Hưng  Văn Giang     Hưng Yên  \n",
       "1    Nghĩa Trụ  Văn Giang     Hưng Yên  \n",
       "2    Nghĩa Trụ  Văn Giang     Hưng Yên  \n",
       "3           11     Gò Vấp  Hồ Chí Minh  \n",
       "4            8     Gò Vấp  Hồ Chí Minh  "
      ]
     },
     "execution_count": 58,
     "metadata": {},
     "output_type": "execute_result"
    }
   ],
   "source": [
    "df.head(5)"
   ]
  },
  {
   "cell_type": "code",
   "execution_count": 60,
   "metadata": {},
   "outputs": [],
   "source": [
    "file_name = \"vietnam_housing_dataset3.csv\"\n",
    "df.to_csv(file_name, index=False, encoding='utf-8-sig')"
   ]
  },
  {
   "cell_type": "code",
   "execution_count": 55,
   "metadata": {},
   "outputs": [
    {
     "name": "stdout",
     "output_type": "stream",
     "text": [
      "Categorical variables:\n",
      "['Address', 'House direction', 'Balcony direction', 'Legal status', 'Furniture state', 'Ward/Commune', 'District', 'Province']\n",
      "No. of. categorical features:  8\n"
     ]
    }
   ],
   "source": [
    "from sklearn.preprocessing import OneHotEncoder\n",
    "\n",
    "s = (df.dtypes == 'object')\n",
    "object_cols = list(s[s].index)\n",
    "print(\"Categorical variables:\")\n",
    "print(object_cols)\n",
    "print('No. of. categorical features: ', \n",
    "      len(object_cols))"
   ]
  },
  {
   "cell_type": "code",
   "execution_count": null,
   "metadata": {},
   "outputs": [],
   "source": [
    "\n",
    "from sklearn.preprocessing import OneHotEncoder\n",
    "\n",
    "OH_encoder = OneHotEncoder(sparse_output=False, handle_unknown='ignore')\n",
    "OH_cols = pd.DataFrame(OH_encoder.fit_transform(df[object_cols]))\n",
    "OH_cols.index = df.index\n",
    "OH_cols.columns = OH_encoder.get_feature_names_out()\n",
    "df_final = df.drop(object_cols, axis=1)\n",
    "df_final = pd.concat([df_final, OH_cols], axis=1)"
   ]
  },
  {
   "cell_type": "code",
   "execution_count": 49,
   "metadata": {},
   "outputs": [
    {
     "name": "stdout",
     "output_type": "stream",
     "text": [
      "Số dòng của DataFrame: 2629\n"
     ]
    }
   ],
   "source": [
    "num_rows = df_cleaned.shape[0] \n",
    "print(f\"Số dòng của DataFrame: {num_rows}\")"
   ]
  },
  {
   "cell_type": "code",
   "execution_count": null,
   "metadata": {},
   "outputs": [],
   "source": [
    "numeric_columns = df.select_dtypes(include=[np.number]).columns\n",
    "for col in numeric_columns:\n",
    "    df[col].fillna(df[col].median(), inplace=True)"
   ]
  },
  {
   "cell_type": "code",
   "execution_count": null,
   "metadata": {},
   "outputs": [],
   "source": [
    "categorical_columns = df.select_dtypes(include=[object]).columns\n",
    "for col in categorical_columns:\n",
    "    df[col].fillna(df[col].mode()[0], inplace=True)"
   ]
  },
  {
   "cell_type": "code",
   "execution_count": null,
   "metadata": {},
   "outputs": [],
   "source": [
    "df.isnull().sum()"
   ]
  }
 ],
 "metadata": {
  "kernelspec": {
   "display_name": "Python 3",
   "language": "python",
   "name": "python3"
  },
  "language_info": {
   "codemirror_mode": {
    "name": "ipython",
    "version": 3
   },
   "file_extension": ".py",
   "mimetype": "text/x-python",
   "name": "python",
   "nbconvert_exporter": "python",
   "pygments_lexer": "ipython3",
   "version": "3.10.11"
  }
 },
 "nbformat": 4,
 "nbformat_minor": 2
}
