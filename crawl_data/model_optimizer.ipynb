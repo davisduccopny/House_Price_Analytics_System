{
 "cells": [
  {
   "cell_type": "code",
   "execution_count": 1,
   "metadata": {},
   "outputs": [],
   "source": [
    "\n",
    "import numpy as np\n",
    "import pandas as pd\n",
    "from sklearn.ensemble import RandomForestRegressor\n",
    "from sklearn.model_selection import train_test_split, GridSearchCV\n",
    "from sklearn.metrics import r2_score"
   ]
  },
  {
   "cell_type": "code",
   "execution_count": null,
   "metadata": {},
   "outputs": [],
   "source": [
    "df = pd.read_csv('vietnam_housing_dataset_final_2.csv')"
   ]
  },
  {
   "cell_type": "code",
   "execution_count": null,
   "metadata": {},
   "outputs": [],
   "source": [
    "df.fillna(df.median(), inplace=True)"
   ]
  },
  {
   "cell_type": "code",
   "execution_count": null,
   "metadata": {},
   "outputs": [],
   "source": [
    "df['Price'] = np.log1p(df['Price'])  \n",
    "df['Frontage'] = np.log1p(df['Frontage'])"
   ]
  },
  {
   "cell_type": "code",
   "execution_count": null,
   "metadata": {},
   "outputs": [],
   "source": [
    "categorical_features = ['Ma_TP', 'Ma_QH', 'Ma_PX']\n",
    "df[categorical_features] = df[categorical_features].astype(str)"
   ]
  },
  {
   "cell_type": "code",
   "execution_count": null,
   "metadata": {},
   "outputs": [],
   "source": [
    "\n",
    "X = df.drop(['Price'], axis=1)\n",
    "Y = df['Price']"
   ]
  },
  {
   "cell_type": "code",
   "execution_count": null,
   "metadata": {},
   "outputs": [],
   "source": [
    "X_train, X_valid, Y_train, Y_valid = train_test_split(\n",
    "    X, Y, train_size=0.8, test_size=0.2, random_state=42\n",
    ")\n"
   ]
  },
  {
   "cell_type": "code",
   "execution_count": null,
   "metadata": {},
   "outputs": [],
   "source": [
    "#rf_model = RandomForestRegressor(random_state=42)\n",
    "\n",
    "\n",
    "# param_grid = {\n",
    "#     'n_estimators': [100, 500, 1000],      \n",
    "#     'max_depth': [10, 15, 20],            \n",
    "#     'min_samples_split': [2, 5, 10],      \n",
    "#     'min_samples_leaf': [1, 2, 4],       \n",
    "#     'max_features': ['sqrt', 'log2'],     \n",
    "# }\n",
    "\n",
    "\n",
    "# grid_search = GridSearchCV(\n",
    "#     estimator=rf_model,\n",
    "#     param_grid=param_grid,\n",
    "#     scoring='r2',                \n",
    "#     cv=5,                        \n",
    "#     verbose=2,                   \n",
    "#     n_jobs=-1                    \n",
    "# )\n",
    "\n",
    "\n",
    "# grid_search.fit(X_train, Y_train)\n",
    "\n",
    "\n",
    "# print(\"Best Parameters:\", grid_search.best_params_)\n",
    "\n",
    "# best_rf_model = grid_search.best_estimator_\n",
    "# preds_rf = best_rf_model.predict(X_valid)\n",
    "rf_model = RandomForestRegressor(random_state=42, n_estimators = 1000, max_depth = 20, min_samples_split= 2, min_samples_leaf=1, max_features='sqrt')\n"
   ]
  },
  {
   "cell_type": "code",
   "execution_count": null,
   "metadata": {},
   "outputs": [],
   "source": [
    "rf_model.fit(X_train, Y_train)"
   ]
  },
  {
   "cell_type": "code",
   "execution_count": null,
   "metadata": {},
   "outputs": [],
   "source": [
    "preds_rf = rf_model.predict(X_valid)"
   ]
  },
  {
   "cell_type": "code",
   "execution_count": null,
   "metadata": {},
   "outputs": [],
   "source": [
    "rf_r2_score = r2_score(Y_valid, preds_rf)\n",
    "print(f\"RandomForest R2 Score: {rf_r2_score}\")"
   ]
  }
 ],
 "metadata": {
  "kernelspec": {
   "display_name": "Python 3",
   "language": "python",
   "name": "python3"
  },
  "language_info": {
   "codemirror_mode": {
    "name": "ipython",
    "version": 3
   },
   "file_extension": ".py",
   "mimetype": "text/x-python",
   "name": "python",
   "nbconvert_exporter": "python",
   "pygments_lexer": "ipython3",
   "version": "3.11.5"
  }
 },
 "nbformat": 4,
 "nbformat_minor": 2
}
