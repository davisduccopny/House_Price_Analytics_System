{
 "cells": [
  {
   "cell_type": "code",
   "execution_count": null,
   "metadata": {},
   "outputs": [],
   "source": [
    "import pandas as pd\n",
    "import matplotlib.pyplot as plt\n",
    "import folium\n",
    "import smtplib\n",
    "from email.message import EmailMessage\n",
    "import os\n",
    "import mysql.connector"
   ]
  },
  {
   "cell_type": "code",
   "execution_count": 6,
   "metadata": {},
   "outputs": [],
   "source": [
    "def connect_mysql():\n",
    "    try:\n",
    "        connection = mysql.connector.connect(\n",
    "            host=os.environ.get(\"DB_HOST\"),\n",
    "            user=os.environ.get(\"DB_USER\"),\n",
    "            password=os.environ.get(\"DB_PASSWORD\"),\n",
    "            database=os.environ.get(\"DB_NAME\")\n",
    "        )\n",
    "        if connection.is_connected():\n",
    "            print(\"✅ Connected to MySQL database\")\n",
    "            return connection\n",
    "    except mysql.connector.Error as err:\n",
    "        print(f\"❌ Error: {err}\")\n",
    "        return None"
   ]
  },
  {
   "cell_type": "code",
   "execution_count": null,
   "metadata": {},
   "outputs": [
    {
     "name": "stdout",
     "output_type": "stream",
     "text": [
      "✅ Connected to MySQL database\n"
     ]
    }
   ],
   "source": [
    "def query_to_dataframe(query, conn):\n",
    "    cursor = conn.cursor(dictionary=True)  \n",
    "    cursor.execute(query)\n",
    "    data = cursor.fetchall()  \n",
    "    cursor.close()\n",
    "    return pd.DataFrame(data)\n",
    "\n",
    "def load_data(conn):\n",
    "    try:\n",
    "        region_info = query_to_dataframe(f\"SELECT tinh_thanh_pho,ma_tp FROM region_info;\", conn)\n",
    "        customer_email = query_to_dataframe(f\"\"\"\n",
    "                                            SELECT username,region_use FROM users WHERE send_mail = 1 and send_mail IS NOT NULL;\n",
    "                                            \"\"\", conn)\n",
    "        house_price = query_to_dataframe(f\"SELECT dia_chi, dien_tich,gia,longitude,latitude FROM thong_tin_bat_dong_san;\",conn)\n",
    "        return house_price,customer_email,region_info\n",
    "    finally:\n",
    "        conn.close()\n",
    "\n",
    "def daily_send_mail_real_estate():\n",
    "    conn = connect_mysql()\n",
    "    cursor = conn.cursor()\n",
    "    \n",
    "    df_house_price,df_customer_email,df_region_info = load_data(conn)\n",
    "    distinct_regions = df_customer_email['region_use'].drop_duplicates()\n",
    "    merged_regions = pd.merge(distinct_regions, df_region_info, left_on='region_use', right_on='ma_tp')\n",
    "    region_names = merged_regions['tinh_thanh_pho'].drop_duplicates().tolist()\n",
    "    df_house_price = df_house_price[df_house_price['dia_chi'].fillna('').str.contains('|'.join(region_names))]\n",
    "    df_send_email = pd.merge(df_customer_email, df_region_info, left_on='region_use', right_on='ma_tp', how='left')\n",
    "    df_send_email['thanh_pho'] = df_send_email['tinh_thanh_pho']\n",
    "    df = df_house_price\n",
    "\n",
    "    # Tiền xử lý dữ liệu\n",
    "    df = df.dropna(subset=[\"dia_chi\", \"dien_tich\", \"gia\"]) \n",
    "    df[\"gia\"] = df[\"gia\"].astype(float)  \n",
    "\n",
    "    # Danh sách các khu vực\n",
    "    khu_vuc_list = df[\"dia_chi\"].unique()\n",
    "    for khu_vuc in khu_vuc_list:\n",
    "        df_khu_vuc = df[df[\"dia_chi\"] == khu_vuc]\n",
    "        html_save = tao_bao_cao_html(df_khu_vuc)\n",
    "df_house_price,df_customer_email,df_region_info = daily_send_mail_real_estate()"
   ]
  },
  {
   "cell_type": "code",
   "execution_count": 27,
   "metadata": {},
   "outputs": [],
   "source": [
    "def daily_send_mail_real_estate():\n",
    "    conn = connect_mysql()\n",
    "    cursor = conn.cursor()\n",
    "    \n",
    "    df_house_price,df_customer_email,df_region_info = load_data(conn)\n",
    "    distinct_regions = df_customer_email['region_use'].drop_duplicates()\n",
    "    merged_regions = pd.merge(distinct_regions, df_region_info, left_on='region_use', right_on='ma_tp')\n",
    "    region_names = merged_regions['tinh_thanh_pho'].drop_duplicates().tolist()\n",
    "    df_house_price = df_house_price[df_house_price['dia_chi'].fillna('').str.contains('|'.join(region_names))]\n",
    "    df_send_email = pd.merge(df_customer_email, df_region_info, left_on='region_use', right_on='ma_tp', how='left').drop_duplicates()\n",
    "    print(df_send_email)"
   ]
  },
  {
   "cell_type": "code",
   "execution_count": 28,
   "metadata": {},
   "outputs": [
    {
     "name": "stdout",
     "output_type": "stream",
     "text": [
      "✅ Connected to MySQL database\n",
      "                      username region_use tinh_thanh_pho ma_tp\n",
      "0        hxqduccopny@gmail.com         01         Hà Nội    01\n",
      "579  2156210125@hcmussh.edu.vn         79    Hồ Chí Minh    79\n"
     ]
    }
   ],
   "source": [
    "daily_send_mail_real_estate()"
   ]
  }
 ],
 "metadata": {
  "kernelspec": {
   "display_name": ".venv",
   "language": "python",
   "name": "python3"
  },
  "language_info": {
   "codemirror_mode": {
    "name": "ipython",
    "version": 3
   },
   "file_extension": ".py",
   "mimetype": "text/x-python",
   "name": "python",
   "nbconvert_exporter": "python",
   "pygments_lexer": "ipython3",
   "version": "3.11.5"
  }
 },
 "nbformat": 4,
 "nbformat_minor": 2
}
